{
  "cells": [
    {
      "cell_type": "markdown",
      "source": [
        "# Новый раздел"
      ],
      "metadata": {
        "id": "JAnMQB55qF3T"
      }
    },
    {
      "cell_type": "code",
      "source": [
        "class Robot:\n",
        "    def __init__(self, name: str):\n",
        "        self.name = name\n",
        "        self.x = 0.0\n",
        "        self.y = 0.0\n",
        "        self.direction = 0.0  # градусы\n",
        "        self.speed = 0.0      # ед/с\n",
        "        self.dt = 0.1         # сек\n",
        "        self.history = [(self.x, self.y)]\n",
        "\n",
        "    def get_position(self):\n",
        "        return (self.x, self.y)\n",
        "\n",
        "    def get_direction(self):\n",
        "        return self.direction\n",
        "\n",
        "    def get_speed(self):\n",
        "        return self.speed\n",
        "\n",
        "    def set_direction(self, new_direction: float):\n",
        "        self.direction = float(new_direction)\n",
        "\n",
        "    def set_speed(self, new_speed: float):\n",
        "        self.speed = float(new_speed)\n",
        "\n",
        "    def info(self) -> str:\n",
        "        x_str = int(self.x) if self.x.is_integer() else self.x\n",
        "        y_str = int(self.y) if self.y.is_integer() else self.y\n",
        "        dir_str = int(self.direction) if float(self.direction).is_integer() else self.direction\n",
        "        spd_str = int(self.speed) if float(self.speed).is_integer() else self.speed\n",
        "        return f\"{self.name}: позиция ({x_str}, {y_str}), направление {dir_str}°, скорость {spd_str}\"\n",
        ""
      ],
      "metadata": {
        "id": "DWFV2OJeqLNh"
      },
      "execution_count": 7,
      "outputs": []
    },
    {
      "cell_type": "code",
      "source": [
        "# ПРОВЕРКА: Создайте робота и протестируйте все методы\n",
        "robot = Robot(\"Тестер\")\n",
        "\n",
        "# Проверим геттеры\n",
        "print(\"Начальная позиция:\", robot.get_position())\n",
        "print(\"Начальное направление:\", robot.get_direction())\n",
        "print(\"Начальная скорость:\", robot.get_speed())\n",
        "print(\"-\" * 20)\n",
        "\n",
        "# Проверим сеттеры\n",
        "robot.set_direction(90)\n",
        "robot.set_speed(25)\n",
        "print(\"После изменений:\", robot.info())\n",
        "print(\"-\" * 20)\n"
      ],
      "metadata": {
        "colab": {
          "base_uri": "https://localhost:8080/"
        },
        "id": "zL9ndgd_qMUB",
        "outputId": "33b8af07-a814-4664-c804-19d5181b7716"
      },
      "execution_count": 8,
      "outputs": [
        {
          "output_type": "stream",
          "name": "stdout",
          "text": [
            "Начальная позиция: (0.0, 0.0)\n",
            "Начальное направление: 0.0\n",
            "Начальная скорость: 0.0\n",
            "--------------------\n",
            "После изменений: Тестер: позиция (0, 0), направление 90°, скорость 25\n",
            "--------------------\n"
          ]
        }
      ]
    },
    {
      "cell_type": "markdown",
      "source": [
        "# Новый раздел"
      ],
      "metadata": {
        "id": "PzTk3IHlrivp"
      }
    },
    {
      "cell_type": "code",
      "source": [
        "import math\n",
        "\n",
        "class Robot:\n",
        "    def __init__(self, name: str):\n",
        "        self.name = name\n",
        "        self.x = 0.0\n",
        "        self.y = 0.0\n",
        "        self.direction = 0.0  # в градусах\n",
        "        self.speed = 0.0      # ед/с\n",
        "        self.dt = 0.1         # сек\n",
        "        self.history = [(self.x, self.y)]\n",
        "\n",
        "    def turn(self, angle: float):\n",
        "      self.direction = (self.direction + float(angle)) % 360\n",
        "\n",
        "    def get_position(self):\n",
        "        return (self.x, self.y)\n",
        "\n",
        "    def get_direction(self):\n",
        "        return self.direction\n",
        "\n",
        "    def get_speed(self):\n",
        "        return self.speed\n",
        "\n",
        "    def set_direction(self, new_direction: float):\n",
        "        self.direction = float(new_direction)\n",
        "\n",
        "    def set_speed(self, new_speed: float):\n",
        "        self.speed = float(new_speed)\n",
        "\n",
        "    def info(self) -> str:\n",
        "        x_str = int(self.x) if self.x.is_integer() else self.x\n",
        "        y_str = int(self.y) if self.y.is_integer() else self.y\n",
        "        dir_str = int(self.direction) if float(self.direction).is_integer() else self.direction\n",
        "        spd_str = int(self.speed) if float(self.speed).is_integer() else self.speed\n",
        "        return f\"{self.name}: позиция ({x_str}, {y_str}), направление {dir_str}°, скорость {spd_str}\"\n",
        "\n",
        "    def move_forward(self, distance: float):\n",
        "        angle_rad = math.radians(self.direction)\n",
        "        dx = distance * math.cos(angle_rad)\n",
        "        dy = distance * math.sin(angle_rad)\n",
        "        self.x += dx\n",
        "        self.y += dy\n",
        "        self.history.append((self.x, self.y))\n",
        "\n",
        "    def draw_square(self, side_length: float):\n",
        "      side = float(side_length)\n",
        "      for _ in range(4):\n",
        "          self.move_forward(side)\n",
        "          self.turn(90)"
      ],
      "metadata": {
        "id": "3uXS571IrjJo"
      },
      "execution_count": 13,
      "outputs": []
    },
    {
      "cell_type": "code",
      "source": [
        "# ПРОВЕРКА: Рисование квадрата\n",
        "robot = Robot(\"Художник\")\n",
        "print(\"Стартовая позиция:\", robot.get_position())\n",
        "print(\"Стартовое направление:\", robot.get_direction())\n",
        "\n",
        "robot.draw_square(20)\n",
        "\n",
        "print(\"Финальная позиция:\", robot.get_position())  # Должен вернуться в (0, 0) или очень близко\n",
        "print(\"Финальное направление:\", robot.get_direction()) # Должно быть 0 (360 % 360)\n",
        "\n",
        "# Проследим путь робота по точкам\n",
        "# Для этого можно временно добавить в метод draw_square вывод позиции после каждого шага\n",
        "print(\"История пути:\", robot.history)\n",
        "# Ожидаемый путь:\n",
        "# 1. (0, 0) - старт\n",
        "# 2. (20, 0) - после 1-й стороны\n",
        "# 3. (20, 20) - после 2-й стороны\n",
        "# 4. (0, 20) - после 3-й стороны\n",
        "# 5. (0, 0) - после 4-й стороны"
      ],
      "metadata": {
        "colab": {
          "base_uri": "https://localhost:8080/"
        },
        "id": "Nw_cI4s7r7fK",
        "outputId": "4df8cf65-4e6f-4c6c-abbd-2996bb68ca34"
      },
      "execution_count": 14,
      "outputs": [
        {
          "output_type": "stream",
          "name": "stdout",
          "text": [
            "Стартовая позиция: (0.0, 0.0)\n",
            "Стартовое направление: 0.0\n",
            "Финальная позиция: (-3.673940397442059e-15, 3.552713678800501e-15)\n",
            "Финальное направление: 0.0\n",
            "История пути: [(0.0, 0.0), (20.0, 0.0), (20.0, 20.0), (0.0, 20.000000000000004), (-3.673940397442059e-15, 3.552713678800501e-15)]\n"
          ]
        }
      ]
    },
    {
      "cell_type": "code",
      "source": [
        "import math\n",
        "\n",
        "class Robot:\n",
        "    def __init__(self, name: str):\n",
        "        self.name = name\n",
        "        self.x = 0.0\n",
        "        self.y = 0.0\n",
        "        self.direction = 0.0  # в градусах\n",
        "        self.speed = 0.0      # ед/с\n",
        "        self.dt = 0.1         # сек\n",
        "        self.history = [(self.x, self.y)]\n",
        "\n",
        "    def turn(self, angle: float):\n",
        "      self.direction = (self.direction + float(angle)) % 360\n",
        "\n",
        "    def get_position(self):\n",
        "        return (self.x, self.y)\n",
        "\n",
        "    def get_direction(self):\n",
        "        return self.direction\n",
        "\n",
        "    def get_speed(self):\n",
        "        return self.speed\n",
        "\n",
        "    def set_direction(self, new_direction: float):\n",
        "        self.direction = float(new_direction)\n",
        "\n",
        "    def set_speed(self, new_speed: float):\n",
        "        self.speed = float(new_speed)\n",
        "\n",
        "    def info(self) -> str:\n",
        "        x_str = int(self.x) if self.x.is_integer() else self.x\n",
        "        y_str = int(self.y) if self.y.is_integer() else self.y\n",
        "        dir_str = int(self.direction) if float(self.direction).is_integer() else self.direction\n",
        "        spd_str = int(self.speed) if float(self.speed).is_integer() else self.speed\n",
        "        return f\"{self.name}: позиция ({x_str}, {y_str}), направление {dir_str}°, скорость {spd_str}\"\n",
        "\n",
        "    def move_forward(self, distance: float):\n",
        "        angle_rad = math.radians(self.direction)\n",
        "        dx = distance * math.cos(angle_rad)\n",
        "        dy = distance * math.sin(angle_rad)\n",
        "        self.x += dx\n",
        "        self.y += dy\n",
        "        self.history.append((self.x, self.y))\n",
        "\n",
        "    def draw_square(self, side_length: float):\n",
        "      side = float(side_length)\n",
        "      for _ in range(4):\n",
        "          self.move_forward(side)\n",
        "          self.turn(90)\n",
        "    def update(self):\n",
        "      distance = self.speed * self.dt\n",
        "      self.move_forward(distance)"
      ],
      "metadata": {
        "id": "L3v0vLvQzDBn"
      },
      "execution_count": 15,
      "outputs": []
    },
    {
      "cell_type": "code",
      "source": [
        "# ПРОВЕРКА: Движение со скоростью\n",
        "robot = Robot(\"Скоростник\")\n",
        "robot.set_direction(0)  # на восток\n",
        "robot.set_speed(20)     # 20 единиц/сек\n",
        "\n",
        "print(\"Начальная позиция:\", robot.get_position())\n",
        "print(\"-\" * 20)\n",
        "\n",
        "# Симуляция 5 кадров движения\n",
        "for i in range(5):\n",
        "    robot.update()\n",
        "    # Округляем значения для более чистого вывода\n",
        "    pos = robot.get_position()\n",
        "    print(f\"Кадр {i+1}: позиция ({pos[0]:.2f}, {pos[1]:.2f})\")\n",
        "\n",
        "print(\"-\" * 20)\n",
        "# За 5 кадров при dt=0.1 и speed=20 должен пройти 10 единиц по X\n",
        "final_pos = robot.get_position()\n",
        "print(f\"Финальная позиция: ({final_pos[0]:.2f}, {final_pos[1]:.2f})\")"
      ],
      "metadata": {
        "colab": {
          "base_uri": "https://localhost:8080/"
        },
        "id": "0B-h4l9P0Wvn",
        "outputId": "f347f86d-9491-4f70-ad62-28ff059139dd"
      },
      "execution_count": 16,
      "outputs": [
        {
          "output_type": "stream",
          "name": "stdout",
          "text": [
            "Начальная позиция: (0.0, 0.0)\n",
            "--------------------\n",
            "Кадр 1: позиция (2.00, 0.00)\n",
            "Кадр 2: позиция (4.00, 0.00)\n",
            "Кадр 3: позиция (6.00, 0.00)\n",
            "Кадр 4: позиция (8.00, 0.00)\n",
            "Кадр 5: позиция (10.00, 0.00)\n",
            "--------------------\n",
            "Финальная позиция: (10.00, 0.00)\n"
          ]
        }
      ]
    },
    {
      "cell_type": "markdown",
      "source": [
        "# Новый раздел"
      ],
      "metadata": {
        "id": "fTX2KvI72khg"
      }
    },
    {
      "cell_type": "code",
      "source": [
        "import math\n",
        "\n",
        "class Robot:\n",
        "    def __init__(self, name: str):\n",
        "        self.name = name\n",
        "        self.x = 0.0\n",
        "        self.y = 0.0\n",
        "        self.direction = 0.0  # в градусах\n",
        "        self.speed = 0.0      # ед/с\n",
        "        self.dt = 0.1         # сек\n",
        "        self.history = [(self.x, self.y)]\n",
        "\n",
        "    def turn(self, angle: float):\n",
        "      self.direction = (self.direction + float(angle)) % 360\n",
        "\n",
        "    def get_position(self):\n",
        "        return (self.x, self.y)\n",
        "\n",
        "    def get_direction(self):\n",
        "        return self.direction\n",
        "\n",
        "    def get_speed(self):\n",
        "        return self.speed\n",
        "\n",
        "    def set_direction(self, new_direction: float):\n",
        "        self.direction = float(new_direction) % 360\n",
        "\n",
        "    def set_speed(self, new_speed: float):\n",
        "        self.speed = float(new_speed)\n",
        "        if self.speed > 100:\n",
        "          self.speed = 100\n",
        "        elif self.speed < 0:\n",
        "          self.speed = 0\n",
        "\n",
        "    def info(self) -> str:\n",
        "        x_str = int(self.x) if self.x.is_integer() else self.x\n",
        "        y_str = int(self.y) if self.y.is_integer() else self.y\n",
        "        dir_str = int(self.direction) if float(self.direction).is_integer() else self.direction\n",
        "        spd_str = int(self.speed) if float(self.speed).is_integer() else self.speed\n",
        "        return f\"{self.name}: позиция ({x_str}, {y_str}), направление {dir_str}°, скорость {spd_str}\"\n",
        "\n",
        "    def move_forward(self, distance: float):\n",
        "        angle_rad = math.radians(self.direction)\n",
        "        dx = distance * math.cos(angle_rad)\n",
        "        dy = distance * math.sin(angle_rad)\n",
        "        self.x += dx\n",
        "        self.y += dy\n",
        "        self.history.append((self.x, self.y))\n",
        "\n",
        "    def draw_square(self, side_length: float):\n",
        "      side = float(side_length)\n",
        "      for _ in range(4):\n",
        "          self.move_forward(side)\n",
        "          self.turn(90)\n",
        "    def update(self):\n",
        "      distance = self.speed * self.dt\n",
        "      self.move_forward(distance)"
      ],
      "metadata": {
        "id": "1oPZ97xo2lTv"
      },
      "execution_count": 19,
      "outputs": []
    },
    {
      "cell_type": "code",
      "source": [
        "# ПРОВЕРКА: Безопасные сеттеры\n",
        "robot = Robot(\"Осторожный\")\n",
        "\n",
        "# --- Тестируем ограничения скорости ---\n",
        "print(\"--- Скорость ---\")\n",
        "robot.set_speed(150)\n",
        "print(f\"Скорость после установки 150: {robot.get_speed()}\")  # должно быть 100\n",
        "\n",
        "robot.set_speed(-10)\n",
        "print(f\"Скорость после установки -10: {robot.get_speed()}\")   # должно быть 0\n",
        "\n",
        "robot.set_speed(50)\n",
        "print(f\"Скорость после установки 50: {robot.get_speed()}\")    # должно быть 50\n",
        "\n",
        "# --- Тестируем нормализацию направления ---\n",
        "print(\"\\n--- Направление ---\")\n",
        "robot.set_direction(450)  # 450 % 360 = 90\n",
        "print(f\"Направление после установки 450°: {robot.get_direction()}\")  # должно быть 90\n",
        "\n",
        "robot.set_direction(-90)  # -90 % 360 = 270\n",
        "print(f\"Направление после установки -90°: {robot.get_direction()}\")   # должно быть 270\n",
        "\n",
        "robot.set_direction(120)\n",
        "print(f\"Направление после установки 120°: {robot.get_direction()}\")  # должно быть 120"
      ],
      "metadata": {
        "colab": {
          "base_uri": "https://localhost:8080/"
        },
        "id": "q93qgVwQ4a43",
        "outputId": "5a9e4e81-b74e-4ea2-eb49-254e795bd818"
      },
      "execution_count": 20,
      "outputs": [
        {
          "output_type": "stream",
          "name": "stdout",
          "text": [
            "--- Скорость ---\n",
            "Скорость после установки 150: 100\n",
            "Скорость после установки -10: 0\n",
            "Скорость после установки 50: 50.0\n",
            "\n",
            "--- Направление ---\n",
            "Направление после установки 450°: 90.0\n",
            "Направление после установки -90°: 270.0\n",
            "Направление после установки 120°: 120.0\n"
          ]
        }
      ]
    },
    {
      "cell_type": "markdown",
      "source": [
        "# Новый раздел"
      ],
      "metadata": {
        "id": "EGVUjCUQ6FW4"
      }
    },
    {
      "cell_type": "code",
      "source": [
        "import math\n",
        "\n",
        "class Robot:\n",
        "    def __init__(self, name: str):\n",
        "        self.name = name\n",
        "        self.x = 0.0\n",
        "        self.y = 0.0\n",
        "        self.direction = 0.0  # в градусах\n",
        "        self.speed = 0.0      # ед/с\n",
        "        self.dt = 0.1         # сек\n",
        "        self.history = [(self.x, self.y)]\n",
        "\n",
        "    def turn(self, angle: float):\n",
        "      self.direction = (self.direction + float(angle)) % 360\n",
        "\n",
        "    def get_position(self):\n",
        "        return (self.x, self.y)\n",
        "\n",
        "    def get_direction(self):\n",
        "        return self.direction\n",
        "\n",
        "    def get_speed(self):\n",
        "        return self.speed\n",
        "\n",
        "    def set_direction(self, new_direction: float):\n",
        "        self.direction = float(new_direction) % 360\n",
        "\n",
        "    def set_speed(self, new_speed: float):\n",
        "        self.speed = float(new_speed)\n",
        "        if self.speed > 100:\n",
        "          self.speed = 100\n",
        "        elif self.speed < 0:\n",
        "          self.speed = 0\n",
        "\n",
        "    def info(self) -> str:\n",
        "        x_str = int(self.x) if self.x.is_integer() else self.x\n",
        "        y_str = int(self.y) if self.y.is_integer() else self.y\n",
        "        dir_str = int(self.direction) if float(self.direction).is_integer() else self.direction\n",
        "        spd_str = int(self.speed) if float(self.speed).is_integer() else self.speed\n",
        "        return f\"{self.name}: позиция ({x_str}, {y_str}), направление {dir_str}°, скорость {spd_str}\"\n",
        "\n",
        "    def move_forward(self, distance: float):\n",
        "        angle_rad = math.radians(self.direction)\n",
        "        dx = distance * math.cos(angle_rad)\n",
        "        dy = distance * math.sin(angle_rad)\n",
        "        self.x += dx\n",
        "        self.y += dy\n",
        "        self.history.append((self.x, self.y))\n",
        "\n",
        "    def draw_square(self, side_length: float):\n",
        "      side = float(side_length)\n",
        "      for _ in range(4):\n",
        "          self.move_forward(side)\n",
        "          self.turn(90)\n",
        "    def update(self):\n",
        "      distance = self.speed * self.dt\n",
        "      self.move_forward(distance)\n",
        "    def simulate(self, duration: float):\n",
        "      steps = int(float(duration) / self.dt)\n",
        "      for _ in range(steps):\n",
        "          self.update()"
      ],
      "metadata": {
        "id": "t7NcXeK16FyX"
      },
      "execution_count": 21,
      "outputs": []
    },
    {
      "cell_type": "code",
      "source": [
        "# ПРОВЕРКА: Симуляция движения во времени\n",
        "robot = Robot(\"Путешественник\")\n",
        "robot.set_direction(45)  # северо-восток\n",
        "robot.set_speed(30)      # 30 единиц/сек\n",
        "\n",
        "print(\"До симуляции:\", robot.get_position())\n",
        "\n",
        "# Симулируем 2 секунды движения\n",
        "robot.simulate(2.0)\n",
        "\n",
        "print(\"После 2 секунд:\", robot.get_position())\n",
        "\n",
        "# Проверка\n",
        "final_pos = robot.get_position()\n",
        "expected_pos = 42.42\n",
        "print(f\"Позиция X: {final_pos[0]:.2f} (ожидалось около {expected_pos})\")\n",
        "print(f\"Позиция Y: {final_pos[1]:.2f} (ожидалось около {expected_pos})\")\n",
        "\n",
        "distance_travelled = (final_pos[0]**2 + final_pos[1]**2)**0.5\n",
        "print(f\"Пройденное расстояние: {distance_travelled:.2f} (ожидалось около 60.0)\")"
      ],
      "metadata": {
        "colab": {
          "base_uri": "https://localhost:8080/"
        },
        "id": "qCDZAbQ-61V_",
        "outputId": "77df0d34-0f94-42fb-c886-1bef62068b1a"
      },
      "execution_count": 22,
      "outputs": [
        {
          "output_type": "stream",
          "name": "stdout",
          "text": [
            "До симуляции: (0.0, 0.0)\n",
            "После 2 секунд: (42.42640687119286, 42.42640687119286)\n",
            "Позиция X: 42.43 (ожидалось около 42.42)\n",
            "Позиция Y: 42.43 (ожидалось около 42.42)\n",
            "Пройденное расстояние: 60.00 (ожидалось около 60.0)\n"
          ]
        }
      ]
    },
    {
      "cell_type": "markdown",
      "source": [
        "# Новый раздел"
      ],
      "metadata": {
        "id": "zWsmoW5Y7f84"
      }
    },
    {
      "cell_type": "code",
      "source": [
        "import math\n",
        "import matplotlib.pyplot as plt\n",
        "\n",
        "class Robot:\n",
        "    def __init__(self, name: str):\n",
        "        self.name = name\n",
        "        self.x = 0.0\n",
        "        self.y = 0.0\n",
        "        self.direction = 0.0  # в градусах\n",
        "        self.speed = 0.0      # ед/с\n",
        "        self.dt = 0.1         # сек\n",
        "        self.history = [(self.x, self.y)]\n",
        "\n",
        "    def turn(self, angle: float):\n",
        "      self.direction = (self.direction + float(angle)) % 360\n",
        "\n",
        "    def get_position(self):\n",
        "        return (self.x, self.y)\n",
        "\n",
        "    def get_direction(self):\n",
        "        return self.direction\n",
        "\n",
        "    def get_speed(self):\n",
        "        return self.speed\n",
        "\n",
        "    def set_direction(self, new_direction: float):\n",
        "        self.direction = float(new_direction) % 360\n",
        "\n",
        "    def set_speed(self, new_speed: float):\n",
        "        self.speed = float(new_speed)\n",
        "        if self.speed > 100:\n",
        "          self.speed = 100\n",
        "        elif self.speed < 0:\n",
        "          self.speed = 0\n",
        "\n",
        "    def info(self) -> str:\n",
        "        x_str = int(self.x) if self.x.is_integer() else self.x\n",
        "        y_str = int(self.y) if self.y.is_integer() else self.y\n",
        "        dir_str = int(self.direction) if float(self.direction).is_integer() else self.direction\n",
        "        spd_str = int(self.speed) if float(self.speed).is_integer() else self.speed\n",
        "        return f\"{self.name}: позиция ({x_str}, {y_str}), направление {dir_str}°, скорость {spd_str}\"\n",
        "\n",
        "    def move_forward(self, distance: float):\n",
        "        angle_rad = math.radians(self.direction)\n",
        "        dx = distance * math.cos(angle_rad)\n",
        "        dy = distance * math.sin(angle_rad)\n",
        "        self.x += dx\n",
        "        self.y += dy\n",
        "        self.history.append((self.x, self.y))\n",
        "\n",
        "    def draw_square(self, side_length: float):\n",
        "      side = float(side_length)\n",
        "      for _ in range(4):\n",
        "          self.move_forward(side)\n",
        "          self.turn(90)\n",
        "    def update(self):\n",
        "      distance = self.speed * self.dt\n",
        "      self.move_forward(distance)\n",
        "    def simulate(self, duration: float):\n",
        "      steps = int(float(duration) / self.dt)\n",
        "      for _ in range(steps):\n",
        "          self.update()\n",
        "    def draw_path(self):\n",
        "      if not self.history or len(self.history) < 2:\n",
        "        print(\"Недостаточно точек для рисования пути.\")\n",
        "        return\n",
        "      x_coords = [pos[0] for pos in self.history]\n",
        "      y_coords = [pos[1] for pos in self.history]\n",
        "\n",
        "      plt.figure(figsize=(8, 8))\n",
        "      plt.plot(x_coords, y_coords, 'b-o')\n",
        "      plt.title(f\"Траектория робота: {self.name}\")\n",
        "      plt.xlabel(\"X\")\n",
        "      plt.ylabel(\"Y\")\n",
        "      plt.grid(True)\n",
        "      plt.axis('equal')\n",
        "      plt.show()"
      ],
      "metadata": {
        "id": "jfIW3yjI7gmf"
      },
      "execution_count": 24,
      "outputs": []
    },
    {
      "cell_type": "code",
      "source": [
        "# ПРОВЕРКА: Рисуем путь\n",
        "robot = Robot(\"Художник\")\n",
        "\n",
        "# Заставляем робота что-нибудь нарисовать\n",
        "robot.draw_square(20)\n",
        "\n",
        "# А теперь визуализируем его историю\n",
        "robot.draw_path()\n",
        "\n",
        "# Второй пример: движение по диагонали\n",
        "robot2 = Robot(\"Диагональ\")\n",
        "robot2.set_direction(45)\n",
        "robot2.simulate(1.5)\n",
        "robot2.draw_path()"
      ],
      "metadata": {
        "id": "FNGPAMk57_8H",
        "outputId": "f4fc92d3-2f8b-42a2-e2d3-a7cd05814192",
        "colab": {
          "base_uri": "https://localhost:8080/",
          "height": 1000
        }
      },
      "execution_count": 25,
      "outputs": [
        {
          "output_type": "display_data",
          "data": {
            "text/plain": [
              "<Figure size 800x800 with 1 Axes>"
            ],
            "image/png": "[encoded data removed]"
          },
          "metadata": {}
        },
        {
          "output_type": "display_data",
          "data": {
            "text/plain": [
              "<Figure size 800x800 with 1 Axes>"
            ],
            "image/png": "[encoded data removed]"
          },
          "metadata": {}
        }
      ]
    },
    {
      "cell_type": "markdown",
      "source": [
        "# Новый раздел"
      ],
      "metadata": {
        "id": "j8WWyHi085AB"
      }
    },
    {
      "cell_type": "code",
      "source": [
        "import math\n",
        "import matplotlib.pyplot as plt\n",
        "\n",
        "class Robot:\n",
        "    def __init__(self, name: str):\n",
        "        self.name = name\n",
        "        self.x = 0.0\n",
        "        self.y = 0.0\n",
        "        self.direction = 0.0  # в градусах\n",
        "        self.speed = 0.0      # ед/с\n",
        "        self.dt = 0.1         # сек\n",
        "        self.angular_speed = 0\n",
        "        self.history = [(self.x, self.y)]\n",
        "\n",
        "    def turn(self, angle: float):\n",
        "      self.direction = (self.direction + float(angle)) % 360\n",
        "\n",
        "    def get_position(self):\n",
        "        return (self.x, self.y)\n",
        "\n",
        "    def get_direction(self):\n",
        "        return self.direction\n",
        "\n",
        "    def get_speed(self):\n",
        "        return self.speed\n",
        "\n",
        "    def get_angular_speed(self):\n",
        "        return self.angular_speed\n",
        "\n",
        "    def set_direction(self, new_direction: float):\n",
        "        self.direction = float(new_direction) % 360\n",
        "\n",
        "    def set_speed(self, new_speed: float):\n",
        "        self.speed = float(new_speed)\n",
        "        if self.speed > 100:\n",
        "          self.speed = 100\n",
        "        elif self.speed < 0:\n",
        "          self.speed = 0\n",
        "    def set_angular_speed(self, new_angular_speed):\n",
        "        self.angular_speed = float(new_angular_speed)\n",
        "        if self.angular_speed > 180:\n",
        "          self.angular_speed = 180\n",
        "        elif self.angular_speed < -180:\n",
        "          self.angular_speed = -180\n",
        "\n",
        "    def info(self) -> str:\n",
        "        x_str = int(self.x) if self.x.is_integer() else self.x\n",
        "        y_str = int(self.y) if self.y.is_integer() else self.y\n",
        "        dir_str = int(self.direction) if float(self.direction).is_integer() else self.direction\n",
        "        spd_str = int(self.speed) if float(self.speed).is_integer() else self.speed\n",
        "        return f\"{self.name}: позиция ({x_str}, {y_str}), направление {dir_str}°, скорость {spd_str}\"\n",
        "\n",
        "    def move_forward(self, distance: float):\n",
        "        angle_rad = math.radians(self.direction)\n",
        "        dx = distance * math.cos(angle_rad)\n",
        "        dy = distance * math.sin(angle_rad)\n",
        "        self.x += dx\n",
        "        self.y += dy\n",
        "        self.history.append((self.x, self.y))\n",
        "\n",
        "    def draw_square(self, side_length: float):\n",
        "      side = float(side_length)\n",
        "      for _ in range(4):\n",
        "          self.move_forward(side)\n",
        "          self.turn(90)\n",
        "    def update(self):\n",
        "      distance = self.speed * self.dt\n",
        "      self.move_forward(distance)\n",
        "\n",
        "    def simulate(self, duration: float):\n",
        "      steps = int(float(duration) / self.dt)\n",
        "      for _ in range(steps):\n",
        "          self.update()\n",
        "\n",
        "    def draw_path(self):\n",
        "      if not self.history or len(self.history) < 2:\n",
        "        print(\"Недостаточно точек для рисования пути.\")\n",
        "        return\n",
        "      x_coords = [pos[0] for pos in self.history]\n",
        "      y_coords = [pos[1] for pos in self.history]\n",
        "\n",
        "      plt.figure(figsize=(8, 8))\n",
        "      plt.plot(x_coords, y_coords, 'b-o')\n",
        "      plt.title(f\"Траектория робота: {self.name}\")\n",
        "      plt.xlabel(\"X\")\n",
        "      plt.ylabel(\"Y\")\n",
        "      plt.grid(True)\n",
        "      plt.axis('equal')\n",
        "      plt.show()\n",
        "      plt.legend()"
      ],
      "metadata": {
        "id": "zqDRVnl38693"
      },
      "execution_count": 32,
      "outputs": []
    },
    {
      "cell_type": "code",
      "source": [
        "# ПРОВЕРКА: Геттер и сеттер для угловой скорости\n",
        "robot = Robot(\"Вертун\")\n",
        "\n",
        "print(f\"Начальная угловая скорость: {robot.get_angular_speed()}\")\n",
        "\n",
        "# Положительное значение\n",
        "robot.set_angular_speed(90)\n",
        "print(f\"Угловая скорость после установки 90: {robot.get_angular_speed()}\")\n",
        "\n",
        "# Отрицательное значение\n",
        "robot.set_angular_speed(-45)\n",
        "print(f\"Угловая скорость после установки -45: {robot.get_angular_speed()}\")\n",
        "\n",
        "# Превышение лимита\n",
        "robot.set_angular_speed(200)\n",
        "print(f\"Угловая скорость после установки 200: {robot.get_angular_speed()}\") # Ожидаем 180\n",
        "\n",
        "# Ниже лимита\n",
        "robot.set_angular_speed(-300)\n",
        "print(f\"Угловая скорость после установки -300: {robot.get_angular_speed()}\") # Ожидаем -180"
      ],
      "metadata": {
        "id": "rpMcROy5-9To",
        "outputId": "5231ed82-4896-4201-8265-d06c0470fb85",
        "colab": {
          "base_uri": "https://localhost:8080/"
        }
      },
      "execution_count": 33,
      "outputs": [
        {
          "output_type": "stream",
          "name": "stdout",
          "text": [
            "Начальная угловая скорость: 0\n",
            "Угловая скорость после установки 90: 90.0\n",
            "Угловая скорость после установки -45: -45.0\n",
            "Угловая скорость после установки 200: 180\n",
            "Угловая скорость после установки -300: -180\n"
          ]
        }
      ]
    },
    {
      "cell_type": "markdown",
      "source": [
        "# Новый раздел"
      ],
      "metadata": {
        "id": "-uBsbuwgAfap"
      }
    },
    {
      "cell_type": "code",
      "source": [
        "import math\n",
        "import matplotlib.pyplot as plt\n",
        "\n",
        "class Robot:\n",
        "    def __init__(self, name: str):\n",
        "        self.name = name\n",
        "        self.x = 0.0\n",
        "        self.y = 0.0\n",
        "        self.direction = 0.0  # в градусах\n",
        "        self.speed = 0.0      # ед/с\n",
        "        self.dt = 0.1         # сек\n",
        "        self.angular_speed = 0\n",
        "        self.history = [(self.x, self.y)]\n",
        "\n",
        "    def turn(self, angle: float):\n",
        "      self.direction = (self.direction + float(angle)) % 360\n",
        "\n",
        "    def get_position(self):\n",
        "        return (self.x, self.y)\n",
        "\n",
        "    def get_direction(self):\n",
        "        return self.direction\n",
        "\n",
        "    def get_speed(self):\n",
        "        return self.speed\n",
        "\n",
        "    def get_angular_speed(self):\n",
        "        return self.angular_speed\n",
        "\n",
        "    def set_direction(self, new_direction: float):\n",
        "        self.direction = float(new_direction) % 360\n",
        "\n",
        "    def set_speed(self, new_speed: float):\n",
        "        self.speed = float(new_speed)\n",
        "        if self.speed > 100:\n",
        "          self.speed = 100\n",
        "        elif self.speed < 0:\n",
        "          self.speed = 0\n",
        "    def set_angular_speed(self, new_angular_speed):\n",
        "        self.angular_speed = float(new_angular_speed)\n",
        "        if self.angular_speed > 180:\n",
        "          self.angular_speed = 180\n",
        "        elif self.angular_speed < -180:\n",
        "          self.angular_speed = -180\n",
        "\n",
        "    def info(self) -> str:\n",
        "        x_str = int(self.x) if self.x.is_integer() else self.x\n",
        "        y_str = int(self.y) if self.y.is_integer() else self.y\n",
        "        dir_str = int(self.direction) if float(self.direction).is_integer() else self.direction\n",
        "        spd_str = int(self.speed) if float(self.speed).is_integer() else self.speed\n",
        "        return f\"{self.name}: позиция ({x_str}, {y_str}), направление {dir_str}°, скорость {spd_str}\"\n",
        "\n",
        "    def move_forward(self, distance: float):\n",
        "        angle_rad = math.radians(self.direction)\n",
        "        dx = distance * math.cos(angle_rad)\n",
        "        dy = distance * math.sin(angle_rad)\n",
        "        self.x += dx\n",
        "        self.y += dy\n",
        "        self.history.append((self.x, self.y))\n",
        "\n",
        "    def draw_square(self, side_length: float):\n",
        "      side = float(side_length)\n",
        "      for _ in range(4):\n",
        "          self.move_forward(side)\n",
        "          self.turn(90)\n",
        "    def update(self):\n",
        "      turn_angle = self.angular_speed * self.dt\n",
        "      if turn_angle:\n",
        "          self.turn(turn_angle)\n",
        "      distance = self.speed * self.dt\n",
        "      if distance:\n",
        "          self.move_forward(distance)\n",
        "\n",
        "    def simulate(self, duration: float):\n",
        "      steps = int(float(duration) / self.dt)\n",
        "      for _ in range(steps):\n",
        "          self.update()\n",
        "\n",
        "    def draw_path(self):\n",
        "      if not self.history:\n",
        "          print(\"Недостаточно точек для рисования пути.\")\n",
        "          return\n",
        "\n",
        "      x_coords = [pos[0] for pos in self.history]\n",
        "      y_coords = [pos[1] for pos in self.history]\n",
        "\n",
        "      plt.figure(figsize=(8, 8))\n",
        "      plt.plot(x_coords, y_coords, 'b-o', label='Путь')\n",
        "\n",
        "      start_x, start_y = self.history[0]\n",
        "      end_x, end_y = self.history[-1]\n",
        "      plt.plot(start_x, start_y, 'go', markersize=10, label='Старт')\n",
        "      plt.plot(end_x, end_y, 'ro', markersize=10, label='Финиш')\n",
        "\n",
        "      plt.title(f\"Траектория робота: {self.name}\")\n",
        "      plt.xlabel(\"X\"); plt.ylabel(\"Y\")\n",
        "      plt.grid(True)\n",
        "      plt.axis('equal')\n",
        "      plt.legend()\n",
        "      plt.show()\n",
        ""
      ],
      "metadata": {
        "id": "9prjgaFWAf3f"
      },
      "execution_count": 39,
      "outputs": []
    },
    {
      "cell_type": "code",
      "source": [
        "# ПРОВЕРКА: Поворот во время движения\n",
        "robot = Robot(\"Вертун\")\n",
        "robot.set_speed(20)\n",
        "robot.set_angular_speed(90)  # поворот 90°/сек\n",
        "\n",
        "print(f\"Старт: Позиция {robot.get_position()}, Направление {robot.get_direction()}°\")\n",
        "print(\"-\" * 20)\n",
        "\n",
        "# Симулируем 10 кадров (1 секунда)\n",
        "for i in range(10):\n",
        "    robot.update()\n",
        "    pos = robot.get_position()\n",
        "    direction = robot.get_direction()\n",
        "    print(f\"Кадр {i+1}: Позиция ({pos[0]:.1f}, {pos[1]:.1f}), Направление {direction:.1f}°\")\n",
        "\n",
        "print(\"-\" * 20)\n",
        "print(\"Результат через 1 секунду:\")\n",
        "# За 1 секунду направление должно стать 90 градусов\n",
        "print(f\"Финальное направление: {robot.get_direction():.1f}°\")\n",
        "# Робот проедет 20 единиц по дуге.\n",
        "# Конечная точка для движения по четверти окружности радиусом R = distance / (pi/2)\n",
        "# R = 20 / 1.57 = 12.7. Конечная точка будет (12.7, 12.7)\n",
        "pos = robot.get_position()\n",
        "print(f\"Финальная позиция: ({pos[0]:.1f}, {pos[1]:.1f})\")\n",
        "\n",
        "# А теперь посмотрим на траекторию!\n",
        "robot.draw_path()"
      ],
      "metadata": {
        "id": "IEPLu04WApsX",
        "outputId": "d72b9641-a6c1-4a3c-b086-5051f31bdb25",
        "colab": {
          "base_uri": "https://localhost:8080/",
          "height": 996
        }
      },
      "execution_count": 40,
      "outputs": [
        {
          "output_type": "stream",
          "name": "stdout",
          "text": [
            "Старт: Позиция (0.0, 0.0), Направление 0.0°\n",
            "--------------------\n",
            "Кадр 1: Позиция (2.0, 0.3), Направление 9.0°\n",
            "Кадр 2: Позиция (3.9, 0.9), Направление 18.0°\n",
            "Кадр 3: Позиция (5.7, 1.8), Направление 27.0°\n",
            "Кадр 4: Позиция (7.3, 3.0), Направление 36.0°\n",
            "Кадр 5: Позиция (8.7, 4.4), Направление 45.0°\n",
            "Кадр 6: Позиция (9.9, 6.0), Направление 54.0°\n",
            "Кадр 7: Позиция (10.8, 7.8), Направление 63.0°\n",
            "Кадр 8: Позиция (11.4, 9.7), Направление 72.0°\n",
            "Кадр 9: Позиция (11.7, 11.7), Направление 81.0°\n",
            "Кадр 10: Позиция (11.7, 13.7), Направление 90.0°\n",
            "--------------------\n",
            "Результат через 1 секунду:\n",
            "Финальное направление: 90.0°\n",
            "Финальная позиция: (11.7, 13.7)\n"
          ]
        },
        {
          "output_type": "display_data",
          "data": {
            "text/plain": [
              "<Figure size 800x800 with 1 Axes>"
            ],
            "image/png": "[encoded data removed]"
          },
          "metadata": {}
        }
      ]
    },
    {
      "cell_type": "markdown",
      "source": [
        "# Новый раздел"
      ],
      "metadata": {
        "id": "lR7JQP_vDC2o"
      }
    },
    {
      "cell_type": "code",
      "source": [
        "import math\n",
        "import matplotlib.pyplot as plt\n",
        "\n",
        "class Robot:\n",
        "    def __init__(self, name: str):\n",
        "        self.name = name\n",
        "        self.x = 0.0\n",
        "        self.y = 0.0\n",
        "        self.direction = 0.0  # в градусах\n",
        "        self.speed = 0.0      # ед/с\n",
        "        self.dt = 0.1         # сек\n",
        "        self.angular_speed = 0\n",
        "        self.history = [(self.x, self.y)]\n",
        "\n",
        "    def turn(self, angle: float):\n",
        "      self.direction = (self.direction + float(angle)) % 360\n",
        "\n",
        "    def get_position(self):\n",
        "        return (self.x, self.y)\n",
        "\n",
        "    def get_direction(self):\n",
        "        return self.direction\n",
        "\n",
        "    def get_speed(self):\n",
        "        return self.speed\n",
        "\n",
        "    def get_angular_speed(self):\n",
        "        return self.angular_speed\n",
        "\n",
        "    def set_direction(self, new_direction: float):\n",
        "        self.direction = float(new_direction) % 360\n",
        "\n",
        "    def set_speed(self, new_speed: float):\n",
        "        self.speed = float(new_speed)\n",
        "        if self.speed > 100:\n",
        "          self.speed = 100\n",
        "        elif self.speed < 0:\n",
        "          self.speed = 0\n",
        "    def set_angular_speed(self, new_angular_speed):\n",
        "        self.angular_speed = float(new_angular_speed)\n",
        "        if self.angular_speed > 180:\n",
        "          self.angular_speed = 180\n",
        "        elif self.angular_speed < -180:\n",
        "          self.angular_speed = -180\n",
        "\n",
        "    def info(self) -> str:\n",
        "        x_str = int(self.x) if self.x.is_integer() else self.x\n",
        "        y_str = int(self.y) if self.y.is_integer() else self.y\n",
        "        dir_str = int(self.direction) if float(self.direction).is_integer() else self.direction\n",
        "        spd_str = int(self.speed) if float(self.speed).is_integer() else self.speed\n",
        "        return f\"{self.name}: позиция ({x_str}, {y_str}), направление {dir_str}°, скорость {spd_str}\"\n",
        "\n",
        "    def move_forward(self, distance: float):\n",
        "        angle_rad = math.radians(self.direction)\n",
        "        dx = distance * math.cos(angle_rad)\n",
        "        dy = distance * math.sin(angle_rad)\n",
        "        self.x += dx\n",
        "        self.y += dy\n",
        "        self.history.append((self.x, self.y))\n",
        "\n",
        "    def draw_square(self, side_length: float):\n",
        "      side = float(side_length)\n",
        "      for _ in range(4):\n",
        "          self.move_forward(side)\n",
        "          self.turn(90)\n",
        "    def update(self):\n",
        "      turn_angle = self.angular_speed * self.dt\n",
        "      if turn_angle:\n",
        "          self.turn(turn_angle)\n",
        "      distance = self.speed * self.dt\n",
        "      if distance:\n",
        "          self.move_forward(distance)\n",
        "\n",
        "    def simulate(self, duration: float):\n",
        "      steps = int(float(duration) / self.dt)\n",
        "      for _ in range(steps):\n",
        "          self.update()\n",
        "\n",
        "    def draw_path(self):\n",
        "      if not self.history:\n",
        "          print(\"Недостаточно точек для рисования пути.\")\n",
        "          return\n",
        "\n",
        "      x_coords = [pos[0] for pos in self.history]\n",
        "      y_coords = [pos[1] for pos in self.history]\n",
        "\n",
        "      plt.figure(figsize=(8, 8))\n",
        "      plt.plot(x_coords, y_coords, 'b-o', label='Путь')\n",
        "\n",
        "      start_x, start_y = self.history[0]\n",
        "      end_x, end_y = self.history[-1]\n",
        "      plt.plot(start_x, start_y, 'go', markersize=20, label='Старт')\n",
        "      plt.plot(end_x, end_y, 'ro', markersize=10, label='Финиш')\n",
        "\n",
        "      plt.title(f\"Траектория робота: {self.name}\")\n",
        "      plt.xlabel(\"X\"); plt.ylabel(\"Y\")\n",
        "      plt.grid(True)\n",
        "      plt.axis('equal')\n",
        "      plt.legend()\n",
        "      plt.show()\n",
        "\n",
        "    def move_in_circle(self, radius: float, period: float):\n",
        "      if period <= 0:\n",
        "        raise ValueError(\"period должен быть > 0\")\n",
        "      if radius < 0:\n",
        "        raise ValueError(\"radius не может быть отрицательным\")\n",
        "\n",
        "      circumference = 2 * math.pi * float(radius)\n",
        "      speed = circumference / float(period)\n",
        "      angular_speed = 360.0 / float(period)\n",
        "\n",
        "      self.set_speed(speed)\n",
        "      self.set_angular_speed(angular_speed)"
      ],
      "metadata": {
        "id": "ipgyCdExDDRn"
      },
      "execution_count": 45,
      "outputs": []
    },
    {
      "cell_type": "code",
      "source": [
        "# ПРОВЕРКА: Движение по кругу\n",
        "robot = Robot(\"Кружащийся\")\n",
        "robot.move_in_circle(radius=20, period=4.0)\n",
        "\n",
        "print(\"--- Настройки для движения по кругу ---\")\n",
        "# Ожидаем: speed = (2 * pi * 20) / 4 = 10 * pi = 31.4\n",
        "print(f\"Расчетная скорость: {robot.get_speed():.2f}\")\n",
        "# Ожидаем: angular_speed = 360 / 4 = 90\n",
        "print(f\"Расчетная угловая скорость: {robot.get_angular_speed():.2f}\")\n",
        "print(\"-\" * 20)\n",
        "\n",
        "\n",
        "print(f\"Стартовая позиция: {robot.get_position()}\")\n",
        "\n",
        "# Симуляция полного круга\n",
        "robot.simulate(4.0)\n",
        "\n",
        "pos = robot.get_position()\n",
        "print(f\"Финальная позиция: ({pos[0]:.2f}, {pos[1]:.2f})\") # Должен вернуться близко к (0, 0)\n",
        "\n",
        "# Рисуем траекторию, чтобы убедиться, что это был круг\n",
        "robot.draw_path()"
      ],
      "metadata": {
        "id": "CfXjavBuD5uP",
        "outputId": "197dd90f-d599-4261-866b-f634c50538df",
        "colab": {
          "base_uri": "https://localhost:8080/",
          "height": 822
        }
      },
      "execution_count": 46,
      "outputs": [
        {
          "output_type": "stream",
          "name": "stdout",
          "text": [
            "--- Настройки для движения по кругу ---\n",
            "Расчетная скорость: 31.42\n",
            "Расчетная угловая скорость: 90.00\n",
            "--------------------\n",
            "Стартовая позиция: (0.0, 0.0)\n",
            "Финальная позиция: (-0.00, -0.00)\n"
          ]
        },
        {
          "output_type": "display_data",
          "data": {
            "text/plain": [
              "<Figure size 800x800 with 1 Axes>"
            ],
            "image/png": "[encoded data removed]"
          },
          "metadata": {}
        }
      ]
    },
    {
      "cell_type": "markdown",
      "source": [
        "# Новый раздел"
      ],
      "metadata": {
        "id": "_GTzDyGMFm8J"
      }
    },
    {
      "cell_type": "code",
      "source": [
        "final_robot = Robot(\"Чемпион\")\n",
        "\n",
        "# 2. Задаем параметры\n",
        "side_length = 20.0\n",
        "move_speed = 25.0\n",
        "turn_angular_speed = 60.0\n",
        "n_sides = 6\n",
        "\n",
        "# 3. Рассчитываем времена\n",
        "turn_angle = 360.0 / n_sides           # 60°\n",
        "t_move = side_length / move_speed       # время на сторону\n",
        "t_turn = turn_angle / turn_angular_speed  # время на поворот\n",
        "\n",
        "# 4. Цикл для рисования\n",
        "for _ in range(n_sides):\n",
        "    # Движение по стороне (угловая скорость = 0)\n",
        "    final_robot.set_speed(move_speed)\n",
        "    final_robot.set_angular_speed(0.0)\n",
        "    final_robot.simulate(t_move)\n",
        "\n",
        "    # Поворот на углу (линейная скорость = 0)\n",
        "    final_robot.set_speed(0.0)\n",
        "    final_robot.set_angular_speed(turn_angular_speed)\n",
        "    final_robot.simulate(t_turn)\n",
        "\n",
        "# 5. Сбрасываем скорости в конце\n",
        "final_robot.set_speed(0.0)\n",
        "final_robot.set_angular_speed(0.0)\n",
        "\n",
        "# 6. Визуализация\n",
        "print(\"Финальное испытание завершено!\")\n",
        "print(f\"Финальная позиция: {final_robot.get_position()}\")\n",
        "final_robot.draw_path()"
      ],
      "metadata": {
        "id": "ZYnF5TGTFoBP",
        "outputId": "833ea672-4b22-4c73-936b-2462bc7aeb8a",
        "colab": {
          "base_uri": "https://localhost:8080/",
          "height": 753
        }
      },
      "execution_count": 47,
      "outputs": [
        {
          "output_type": "stream",
          "name": "stdout",
          "text": [
            "Финальное испытание завершено!\n",
            "Финальная позиция: (-8.43769498715119e-15, 0.0)\n"
          ]
        },
        {
          "output_type": "display_data",
          "data": {
            "text/plain": [
              "<Figure size 800x800 with 1 Axes>"
            ],
            "image/png": "[encoded data removed]"
          },
          "metadata": {}
        }
      ]
    }
  ],
  "metadata": {
    "colab": {
      "name": "Добро пожаловать в Colab!",
      "toc_visible": true,
      "provenance": []
    },
    "kernelspec": {
      "display_name": "Python 3",
      "name": "python3"
    }
  },
  "nbformat": 4,
  "nbformat_minor": 0
}